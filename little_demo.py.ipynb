{
 "cells": [
  {
   "cell_type": "markdown",
   "metadata": {},
   "source": [
    "# <center>Basic Scraping (i guess?)</center>\n",
    "\n",
    "<center>Author : Ramos Janoah - 13514089</center>"
   ]
  },
  {
   "cell_type": "markdown",
   "metadata": {},
   "source": [
    "# Before scrapping: \n",
    "#### Decide tools or library or anything to request web page and parse the html page "
   ]
  },
  {
   "cell_type": "code",
   "execution_count": null,
   "metadata": {},
   "outputs": [],
   "source": [
    "from urllib.request import urlopen # --> f}or request\n",
    "from bs4 import BeautifulSoup # --> for scrapping"
   ]
  },
  {
   "cell_type": "markdown",
   "metadata": {},
   "source": [
    "# First, decide which page you want to scraped"
   ]
  },
  {
   "cell_type": "markdown",
   "metadata": {},
   "source": [
    "For example, this site: https://www.bukalapak.com/c/handphone/hp-smartphone?from=omnisearch&search_source=omnisearch_redirect"
   ]
  },
  {
   "cell_type": "markdown",
   "metadata": {},
   "source": [
    "# Second, decide what detail do you want to scrape"
   ]
  },
  {
   "cell_type": "markdown",
   "metadata": {},
   "source": [
    "For example, from that site, i want to scrape the name of products, and the price, for allllll the products, iterately.."
   ]
  },
  {
   "cell_type": "markdown",
   "metadata": {},
   "source": [
    "<center>![Big picture, Small Picture](big_picture_small_picture.png)</center>"
   ]
  },
  {
   "cell_type": "markdown",
   "metadata": {},
   "source": [
    "In the url example, the big picture is the list of products, meanwhile, the small picture if detail of product.\n",
    "It depends on you, which page do you want to scrape first. Is it the 'big picture', or the 'small picture'."
   ]
  },
  {
   "cell_type": "markdown",
   "metadata": {},
   "source": [
    "For this time, small picture first. \n",
    "Step:\n",
    "- See the raw html text for the aspect you want\n",
    "- If you found it, make sure that it also applied to another page"
   ]
  },
  {
   "cell_type": "code",
   "execution_count": null,
   "metadata": {},
   "outputs": [],
   "source": [
    "# for example, the page is:\n",
    "url = 'https://www.bukalapak.com/p/handphone/hp-smartphone/i59i3c-jual-bb-davis-resmi-tam-like-new?dtm_section=top_promoted&dtm_source=list-product&from=&product_owner=normal_seller'\n",
    "page = urlopen(url).read()"
   ]
  },
  {
   "cell_type": "code",
   "execution_count": null,
   "metadata": {},
   "outputs": [],
   "source": [
    "str(page)[0:1000] + '....'"
   ]
  },
  {
   "cell_type": "markdown",
   "metadata": {},
   "source": [
    "## Now, let BeautifoulSoup parse the HTML"
   ]
  },
  {
   "cell_type": "code",
   "execution_count": null,
   "metadata": {},
   "outputs": [],
   "source": [
    "soup = BeautifulSoup(page, 'html.parser')"
   ]
  },
  {
   "cell_type": "markdown",
   "metadata": {},
   "source": [
    "If i want to get price, get the <b>IDENTIFIER TAG OF THE ASPECT YOU WANT</b>.\n",
    "\n",
    "For example, for the price of products"
   ]
  },
  {
   "cell_type": "code",
   "execution_count": null,
   "metadata": {},
   "outputs": [],
   "source": [
    "price = soup.find(\"meta\", {\"name\":\"product:price:amount\"})"
   ]
  },
  {
   "cell_type": "markdown",
   "metadata": {},
   "source": [
    "or the name of products.."
   ]
  },
  {
   "cell_type": "code",
   "execution_count": null,
   "metadata": {},
   "outputs": [],
   "source": [
    "name = soup.find(\"title\")\n",
    "name.text"
   ]
  },
  {
   "cell_type": "markdown",
   "metadata": {},
   "source": [
    "Well, you can clean that later...\n",
    "\n",
    "Now, you can make function to easily scrap for 'small picture', like this:"
   ]
  },
  {
   "cell_type": "code",
   "execution_count": null,
   "metadata": {},
   "outputs": [],
   "source": [
    "def scrape_small_picture(url):\n",
    "    result = []\n",
    "    page = urlopen(url).read()\n",
    "    soup = BeautifulSoup(page, 'html.parser')\n",
    "\n",
    "    # get the name\n",
    "    name = soup.find(\"title\").text\n",
    "    result.append(name)    \n",
    "    \n",
    "    # get the price\n",
    "    price = soup.find(\"meta\", {\"name\":\"product:price:amount\"})['content']\n",
    "    result.append(price)\n",
    "    \n",
    "    # and get all of your sh** here....\n",
    "    \n",
    "    # get the bla bla\n",
    "    # get the bla bla\n",
    "    return result\n",
    "    "
   ]
  },
  {
   "cell_type": "markdown",
   "metadata": {},
   "source": [
    "### Let's check~"
   ]
  },
  {
   "cell_type": "code",
   "execution_count": null,
   "metadata": {},
   "outputs": [],
   "source": [
    "scrape_small_picture(url)"
   ]
  },
  {
   "cell_type": "markdown",
   "metadata": {},
   "source": [
    "# Tadaa, small picture is done! Easy, right?\n",
    "\n",
    "# Now for the big picture!"
   ]
  },
  {
   "cell_type": "code",
   "execution_count": null,
   "metadata": {},
   "outputs": [],
   "source": [
    "big_picture_url = 'https://www.bukalapak.com/c/handphone/hp-smartphone?from=omnisearch&search_source=omnisearch_redirect'\n",
    "big_page = urlopen(big_picture_url).read()\n",
    "big_soup = BeautifulSoup(big_page, 'html.parser')"
   ]
  },
  {
   "cell_type": "code",
   "execution_count": null,
   "metadata": {},
   "outputs": [],
   "source": [
    "print(str(big_soup)[0:1000])"
   ]
  },
  {
   "cell_type": "markdown",
   "metadata": {},
   "source": [
    "## Now, we want to get all of the 'small picture URL'"
   ]
  },
  {
   "cell_type": "code",
   "execution_count": null,
   "metadata": {
    "scrolled": true
   },
   "outputs": [],
   "source": [
    "r = big_soup.findAll(\"article\", {\"class\":\"product-display\"})[0]\n",
    "\n",
    "str(r)[0:1000] + '..'"
   ]
  },
  {
   "cell_type": "code",
   "execution_count": null,
   "metadata": {},
   "outputs": [],
   "source": [
    "r['data-url']"
   ]
  },
  {
   "cell_type": "code",
   "execution_count": null,
   "metadata": {},
   "outputs": [],
   "source": [
    "print('https://www.bukalapak.com' + r['data-url'])"
   ]
  },
  {
   "cell_type": "code",
   "execution_count": null,
   "metadata": {},
   "outputs": [],
   "source": [
    "first = big_soup.findAll(\"article\", {\"class\":\"product-display\"})[0]\n",
    "str(first)[0:1000]"
   ]
  },
  {
   "cell_type": "markdown",
   "metadata": {},
   "source": [
    "# Lets iterate!! (1)"
   ]
  },
  {
   "cell_type": "code",
   "execution_count": null,
   "metadata": {},
   "outputs": [],
   "source": [
    "big_picture_url = 'https://www.bukalapak.com/c/handphone/hp-smartphone?from=omnisearch&search_source=omnisearch_redirect'\n",
    "\n",
    "def get_url_of_the_big_picture(big_picture_url):\n",
    "    # initiate list to contain url\n",
    "    small_picture_url = []\n",
    "    \n",
    "    # open and parse big soup\n",
    "    big_page = urlopen(big_picture_url).read()\n",
    "    big_soup = BeautifulSoup(big_page, 'html.parser')\n",
    "    \n",
    "    # get div of big soup\n",
    "    products_div = big_soup.findAll(\"article\", {\"class\":\"product-display\"})\n",
    "    \n",
    "    # insert one by one\n",
    "    for div in products_div:\n",
    "        small_picture_url.append(div['data-url'])\n",
    "\n",
    "    return small_picture_url\n",
    "        \n",
    "        \n",
    "small_picture_url = get_url_of_the_big_picture(big_picture_url)\n",
    "small_picture_url[0:5]"
   ]
  },
  {
   "cell_type": "markdown",
   "metadata": {},
   "source": [
    "### Now lets iterate to get the all small picture.."
   ]
  },
  {
   "cell_type": "code",
   "execution_count": null,
   "metadata": {},
   "outputs": [],
   "source": [
    "for i, url in enumerate(small_picture_url):\n",
    "    url = 'http://www.bukalapak.com/' + url\n",
    "    products_info = scrape_small_picture(url)\n",
    "    print(products_info)\n",
    "    \n",
    "    if i == 5:\n",
    "        break"
   ]
  },
  {
   "cell_type": "markdown",
   "metadata": {},
   "source": [
    "# Now, how if the big picture is have the bigger picture?\n",
    "\n",
    "# Let's iterate over the page!"
   ]
  },
  {
   "cell_type": "markdown",
   "metadata": {},
   "source": [
    "### See the 'page=' in the end of string?"
   ]
  },
  {
   "cell_type": "code",
   "execution_count": null,
   "metadata": {},
   "outputs": [],
   "source": [
    "template_url = 'https://www.bukalapak.com/c/handphone/hp-smartphone?from=omnisearch&search_source=omnisearch_redirect&page='"
   ]
  },
  {
   "cell_type": "code",
   "execution_count": null,
   "metadata": {},
   "outputs": [],
   "source": [
    "i = 0 \n",
    "\n",
    "# Iterately, get the big picture\n",
    "while True:\n",
    "    list_url = template_url + str(i)\n",
    "    detail_urls = get_url_of_the_big_picture(list_url)\n",
    "\n",
    "    # and iterately, get the small picture\n",
    "    for detail_url in detail_urls:\n",
    "        result = scrape_small_picture('https://www.bukalapak.com' + detail_url)\n",
    "        print(result)"
   ]
  }
 ],
 "metadata": {
  "kernelspec": {
   "display_name": "Python 3",
   "language": "python",
   "name": "python3"
  },
  "language_info": {
   "codemirror_mode": {
    "name": "ipython",
    "version": 3
   },
   "file_extension": ".py",
   "mimetype": "text/x-python",
   "name": "python",
   "nbconvert_exporter": "python",
   "pygments_lexer": "ipython3",
   "version": "3.5.5"
  }
 },
 "nbformat": 4,
 "nbformat_minor": 2
}
